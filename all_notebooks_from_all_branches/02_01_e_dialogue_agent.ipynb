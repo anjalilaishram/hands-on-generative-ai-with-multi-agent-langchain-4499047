{
  "cells": [
    {
      "cell_type": "markdown",
      "metadata": {
        "id": "_OKXJtqZxrXD"
      },
      "source": [
        "# Multi-agent decentralized speaker selection\n",
        "\n"
      ]
    },
    {
      "cell_type": "markdown",
      "metadata": {
        "id": "74Nm3v51xrXG"
      },
      "source": [
        "## Import LangChain related modules"
      ]
    },
    {
      "cell_type": "code",
      "execution_count": null,
      "metadata": {
        "id": "H1XOGESnxrXG"
      },
      "outputs": [],
      "source": [
        "# Use termcolor to make it easy to colorize the outputs.\n",
        "!pip install termcolor > /dev/null\n",
        "!pip install langchain\n",
        "!pip install openai\n",
        "!pip install langchain_experimental\n",
        "!pip install tiktoken\n",
        "!pip install faiss-cpu==1.7.4\n",
        "from typing import Callable, List\n",
        "import tenacity\n",
        "from langchain.chat_models import ChatOpenAI\n",
        "from langchain.output_parsers import RegexParser\n",
        "from langchain.prompts import PromptTemplate\n",
        "from langchain.schema import (\n",
        "    HumanMessage,\n",
        "    SystemMessage,\n",
        ")\n",
        "import os\n",
        "os.environ[\"OPENAI_API_KEY\"] = ''"
      ]
    },
    {
      "cell_type": "markdown",
      "metadata": {
        "id": "qvbClQNSxrXH"
      },
      "source": [
        "## `DialogueAgent` and `DialogueSimulator` classes\n"
      ]
    },
    {
      "cell_type": "code",
      "execution_count": null,
      "metadata": {
        "id": "Y_jBDa-T3dmZ"
      },
      "outputs": [],
      "source": [
        "\n",
        "class DialogueSimulator:\n",
        "    def __init__(\n",
        "        self,\n",
        "        agents: List[DialogueAgent],\n",
        "        selection_function: Callable[[int, List[DialogueAgent]], int],\n",
        "    ) -> None:\n",
        "        self.agents = agents\n",
        "        self._step = 0\n",
        "        self.select_next_speaker = selection_function\n",
        "\n",
        "    def reset(self):\n",
        "        for agent in self.agents:\n",
        "            agent.reset()\n",
        "\n",
        "    def inject(self, name: str, message: str):\n",
        "        \"\"\"\n",
        "        Initiates the conversation with a {message} from {name}\n",
        "        \"\"\"\n",
        "        for agent in self.agents:\n",
        "            agent.receive(name, message)\n",
        "\n",
        "        # increment time\n",
        "        self._step += 1\n",
        "\n",
        "    def step(self) -> tuple[str, str]:\n",
        "        # 1. choose the next speaker\n",
        "        speaker_idx = self.select_next_speaker(self._step, self.agents)\n",
        "        speaker = self.agents[speaker_idx]\n",
        "\n",
        "        # 2. next speaker sends message\n",
        "        message = speaker.send()\n",
        "\n",
        "        # 3. everyone receives message\n",
        "        for receiver in self.agents:\n",
        "            receiver.receive(speaker.name, message)\n",
        "\n",
        "        # 4. increment time\n",
        "        self._step += 1\n",
        "\n",
        "        return speaker.name, message"
      ]
    }
  ],
  "metadata": {
    "colab": {
      "provenance": []
    },
    "kernelspec": {
      "display_name": "Python 3 (ipykernel)",
      "language": "python",
      "name": "python3"
    },
    "language_info": {
      "codemirror_mode": {
        "name": "ipython",
        "version": 3
      },
      "file_extension": ".py",
      "mimetype": "text/x-python",
      "name": "python",
      "nbconvert_exporter": "python",
      "pygments_lexer": "ipython3",
      "version": "3.9.16"
    }
  },
  "nbformat": 4,
  "nbformat_minor": 0
}
