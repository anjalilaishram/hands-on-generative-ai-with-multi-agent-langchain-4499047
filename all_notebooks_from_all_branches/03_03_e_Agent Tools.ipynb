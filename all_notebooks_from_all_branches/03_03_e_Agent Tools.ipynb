{
  "cells": [
    {
      "cell_type": "markdown",
      "metadata": {
        "id": "B0e9ka9PDywt"
      },
      "source": [
        "# Agent Debates with Tools\n",
        "\n",
        "This example shows how to simulate multi-agent dialogues where agents have access to tools."
      ]
    },
    {
      "cell_type": "markdown",
      "metadata": {
        "id": "FhlvIn4EDyww"
      },
      "source": [
        "## Import LangChain related modules"
      ]
    },
    {
      "cell_type": "code",
      "execution_count": null,
      "metadata": {
        "colab": {
          "base_uri": "https://localhost:8080/"
        },
        "id": "ES3i0niaDywx",
        "outputId": "e2be22ab-e818-4a3e-9fa1-0a9e73538f2e"
      },
      "outputs": [
        {
          "name": "stdout",
          "output_type": "stream",
          "text": [
            "Requirement already satisfied: langchain in /usr/local/lib/python3.10/dist-packages (0.1.0)\n",
            "Requirement already satisfied: PyYAML>=5.3 in /usr/local/lib/python3.10/dist-packages (from langchain) (6.0.1)\n",
            "Requirement already satisfied: SQLAlchemy<3,>=1.4 in /usr/local/lib/python3.10/dist-packages (from langchain) (2.0.24)\n",
            "Requirement already satisfied: aiohttp<4.0.0,>=3.8.3 in /usr/local/lib/python3.10/dist-packages (from langchain) (3.9.1)\n",
            "Requirement already satisfied: async-timeout<5.0.0,>=4.0.0 in /usr/local/lib/python3.10/dist-packages (from langchain) (4.0.3)\n",
            "Requirement already satisfied: dataclasses-json<0.7,>=0.5.7 in /usr/local/lib/python3.10/dist-packages (from langchain) (0.6.3)\n",
            "Requirement already satisfied: jsonpatch<2.0,>=1.33 in /usr/local/lib/python3.10/dist-packages (from langchain) (1.33)\n",
            "Requirement already satisfied: langchain-community<0.1,>=0.0.9 in /usr/local/lib/python3.10/dist-packages (from langchain) (0.0.11)\n",
            "Requirement already satisfied: langchain-core<0.2,>=0.1.7 in /usr/local/lib/python3.10/dist-packages (from langchain) (0.1.9)\n",
            "Requirement already satisfied: langsmith<0.1.0,>=0.0.77 in /usr/local/lib/python3.10/dist-packages (from langchain) (0.0.79)\n",
            "Requirement already satisfied: numpy<2,>=1 in /usr/local/lib/python3.10/dist-packages (from langchain) (1.23.5)\n",
            "Requirement already satisfied: pydantic<3,>=1 in /usr/local/lib/python3.10/dist-packages (from langchain) (1.10.13)\n",
            "Requirement already satisfied: requests<3,>=2 in /usr/local/lib/python3.10/dist-packages (from langchain) (2.31.0)\n",
            "Requirement already satisfied: tenacity<9.0.0,>=8.1.0 in /usr/local/lib/python3.10/dist-packages (from langchain) (8.2.3)\n",
            "Requirement already satisfied: attrs>=17.3.0 in /usr/local/lib/python3.10/dist-packages (from aiohttp<4.0.0,>=3.8.3->langchain) (23.2.0)\n",
            "Requirement already satisfied: multidict<7.0,>=4.5 in /usr/local/lib/python3.10/dist-packages (from aiohttp<4.0.0,>=3.8.3->langchain) (6.0.4)\n",
            "Requirement already satisfied: yarl<2.0,>=1.0 in /usr/local/lib/python3.10/dist-packages (from aiohttp<4.0.0,>=3.8.3->langchain) (1.9.4)\n",
            "Requirement already satisfied: frozenlist>=1.1.1 in /usr/local/lib/python3.10/dist-packages (from aiohttp<4.0.0,>=3.8.3->langchain) (1.4.1)\n",
            "Requirement already satisfied: aiosignal>=1.1.2 in /usr/local/lib/python3.10/dist-packages (from aiohttp<4.0.0,>=3.8.3->langchain) (1.3.1)\n",
            "Requirement already satisfied: marshmallow<4.0.0,>=3.18.0 in /usr/local/lib/python3.10/dist-packages (from dataclasses-json<0.7,>=0.5.7->langchain) (3.20.2)\n",
            "Requirement already satisfied: typing-inspect<1,>=0.4.0 in /usr/local/lib/python3.10/dist-packages (from dataclasses-json<0.7,>=0.5.7->langchain) (0.9.0)\n",
            "Requirement already satisfied: jsonpointer>=1.9 in /usr/local/lib/python3.10/dist-packages (from jsonpatch<2.0,>=1.33->langchain) (2.4)\n",
            "Requirement already satisfied: anyio<5,>=3 in /usr/local/lib/python3.10/dist-packages (from langchain-core<0.2,>=0.1.7->langchain) (3.7.1)\n",
            "Requirement already satisfied: packaging<24.0,>=23.2 in /usr/local/lib/python3.10/dist-packages (from langchain-core<0.2,>=0.1.7->langchain) (23.2)\n",
            "Requirement already satisfied: typing-extensions>=4.2.0 in /usr/local/lib/python3.10/dist-packages (from pydantic<3,>=1->langchain) (4.9.0)\n",
            "Requirement already satisfied: charset-normalizer<4,>=2 in /usr/local/lib/python3.10/dist-packages (from requests<3,>=2->langchain) (3.3.2)\n",
            "Requirement already satisfied: idna<4,>=2.5 in /usr/local/lib/python3.10/dist-packages (from requests<3,>=2->langchain) (3.6)\n",
            "Requirement already satisfied: urllib3<3,>=1.21.1 in /usr/local/lib/python3.10/dist-packages (from requests<3,>=2->langchain) (2.0.7)\n",
            "Requirement already satisfied: certifi>=2017.4.17 in /usr/local/lib/python3.10/dist-packages (from requests<3,>=2->langchain) (2023.11.17)\n",
            "Requirement already satisfied: greenlet!=0.4.17 in /usr/local/lib/python3.10/dist-packages (from SQLAlchemy<3,>=1.4->langchain) (3.0.3)\n",
            "Requirement already satisfied: sniffio>=1.1 in /usr/local/lib/python3.10/dist-packages (from anyio<5,>=3->langchain-core<0.2,>=0.1.7->langchain) (1.3.0)\n",
            "Requirement already satisfied: exceptiongroup in /usr/local/lib/python3.10/dist-packages (from anyio<5,>=3->langchain-core<0.2,>=0.1.7->langchain) (1.2.0)\n",
            "Requirement already satisfied: mypy-extensions>=0.3.0 in /usr/local/lib/python3.10/dist-packages (from typing-inspect<1,>=0.4.0->dataclasses-json<0.7,>=0.5.7->langchain) (1.0.0)\n",
            "Requirement already satisfied: openai in /usr/local/lib/python3.10/dist-packages (1.7.0)\n",
            "Requirement already satisfied: anyio<5,>=3.5.0 in /usr/local/lib/python3.10/dist-packages (from openai) (3.7.1)\n",
            "Requirement already satisfied: distro<2,>=1.7.0 in /usr/lib/python3/dist-packages (from openai) (1.7.0)\n",
            "Requirement already satisfied: httpx<1,>=0.23.0 in /usr/local/lib/python3.10/dist-packages (from openai) (0.26.0)\n",
            "Requirement already satisfied: pydantic<3,>=1.9.0 in /usr/local/lib/python3.10/dist-packages (from openai) (1.10.13)\n",
            "Requirement already satisfied: sniffio in /usr/local/lib/python3.10/dist-packages (from openai) (1.3.0)\n",
            "Requirement already satisfied: tqdm>4 in /usr/local/lib/python3.10/dist-packages (from openai) (4.66.1)\n",
            "Requirement already satisfied: typing-extensions<5,>=4.7 in /usr/local/lib/python3.10/dist-packages (from openai) (4.9.0)\n",
            "Requirement already satisfied: idna>=2.8 in /usr/local/lib/python3.10/dist-packages (from anyio<5,>=3.5.0->openai) (3.6)\n",
            "Requirement already satisfied: exceptiongroup in /usr/local/lib/python3.10/dist-packages (from anyio<5,>=3.5.0->openai) (1.2.0)\n",
            "Requirement already satisfied: certifi in /usr/local/lib/python3.10/dist-packages (from httpx<1,>=0.23.0->openai) (2023.11.17)\n",
            "Requirement already satisfied: httpcore==1.* in /usr/local/lib/python3.10/dist-packages (from httpx<1,>=0.23.0->openai) (1.0.2)\n",
            "Requirement already satisfied: h11<0.15,>=0.13 in /usr/local/lib/python3.10/dist-packages (from httpcore==1.*->httpx<1,>=0.23.0->openai) (0.14.0)\n",
            "Requirement already satisfied: langchain_experimental in /usr/local/lib/python3.10/dist-packages (0.0.48)\n",
            "Requirement already satisfied: langchain<0.2,>=0.1 in /usr/local/lib/python3.10/dist-packages (from langchain_experimental) (0.1.0)\n",
            "Requirement already satisfied: langchain-core<0.2.0,>=0.1.7 in /usr/local/lib/python3.10/dist-packages (from langchain_experimental) (0.1.9)\n",
            "Requirement already satisfied: PyYAML>=5.3 in /usr/local/lib/python3.10/dist-packages (from langchain<0.2,>=0.1->langchain_experimental) (6.0.1)\n",
            "Requirement already satisfied: SQLAlchemy<3,>=1.4 in /usr/local/lib/python3.10/dist-packages (from langchain<0.2,>=0.1->langchain_experimental) (2.0.24)\n",
            "Requirement already satisfied: aiohttp<4.0.0,>=3.8.3 in /usr/local/lib/python3.10/dist-packages (from langchain<0.2,>=0.1->langchain_experimental) (3.9.1)\n",
            "Requirement already satisfied: async-timeout<5.0.0,>=4.0.0 in /usr/local/lib/python3.10/dist-packages (from langchain<0.2,>=0.1->langchain_experimental) (4.0.3)\n",
            "Requirement already satisfied: dataclasses-json<0.7,>=0.5.7 in /usr/local/lib/python3.10/dist-packages (from langchain<0.2,>=0.1->langchain_experimental) (0.6.3)\n",
            "Requirement already satisfied: jsonpatch<2.0,>=1.33 in /usr/local/lib/python3.10/dist-packages (from langchain<0.2,>=0.1->langchain_experimental) (1.33)\n",
            "Requirement already satisfied: langchain-community<0.1,>=0.0.9 in /usr/local/lib/python3.10/dist-packages (from langchain<0.2,>=0.1->langchain_experimental) (0.0.11)\n",
            "Requirement already satisfied: langsmith<0.1.0,>=0.0.77 in /usr/local/lib/python3.10/dist-packages (from langchain<0.2,>=0.1->langchain_experimental) (0.0.79)\n",
            "Requirement already satisfied: numpy<2,>=1 in /usr/local/lib/python3.10/dist-packages (from langchain<0.2,>=0.1->langchain_experimental) (1.23.5)\n",
            "Requirement already satisfied: pydantic<3,>=1 in /usr/local/lib/python3.10/dist-packages (from langchain<0.2,>=0.1->langchain_experimental) (1.10.13)\n",
            "Requirement already satisfied: requests<3,>=2 in /usr/local/lib/python3.10/dist-packages (from langchain<0.2,>=0.1->langchain_experimental) (2.31.0)\n",
            "Requirement already satisfied: tenacity<9.0.0,>=8.1.0 in /usr/local/lib/python3.10/dist-packages (from langchain<0.2,>=0.1->langchain_experimental) (8.2.3)\n",
            "Requirement already satisfied: anyio<5,>=3 in /usr/local/lib/python3.10/dist-packages (from langchain-core<0.2.0,>=0.1.7->langchain_experimental) (3.7.1)\n",
            "Requirement already satisfied: packaging<24.0,>=23.2 in /usr/local/lib/python3.10/dist-packages (from langchain-core<0.2.0,>=0.1.7->langchain_experimental) (23.2)\n",
            "Requirement already satisfied: attrs>=17.3.0 in /usr/local/lib/python3.10/dist-packages (from aiohttp<4.0.0,>=3.8.3->langchain<0.2,>=0.1->langchain_experimental) (23.2.0)\n",
            "Requirement already satisfied: multidict<7.0,>=4.5 in /usr/local/lib/python3.10/dist-packages (from aiohttp<4.0.0,>=3.8.3->langchain<0.2,>=0.1->langchain_experimental) (6.0.4)\n",
            "Requirement already satisfied: yarl<2.0,>=1.0 in /usr/local/lib/python3.10/dist-packages (from aiohttp<4.0.0,>=3.8.3->langchain<0.2,>=0.1->langchain_experimental) (1.9.4)\n",
            "Requirement already satisfied: frozenlist>=1.1.1 in /usr/local/lib/python3.10/dist-packages (from aiohttp<4.0.0,>=3.8.3->langchain<0.2,>=0.1->langchain_experimental) (1.4.1)\n",
            "Requirement already satisfied: aiosignal>=1.1.2 in /usr/local/lib/python3.10/dist-packages (from aiohttp<4.0.0,>=3.8.3->langchain<0.2,>=0.1->langchain_experimental) (1.3.1)\n",
            "Requirement already satisfied: idna>=2.8 in /usr/local/lib/python3.10/dist-packages (from anyio<5,>=3->langchain-core<0.2.0,>=0.1.7->langchain_experimental) (3.6)\n",
            "Requirement already satisfied: sniffio>=1.1 in /usr/local/lib/python3.10/dist-packages (from anyio<5,>=3->langchain-core<0.2.0,>=0.1.7->langchain_experimental) (1.3.0)\n",
            "Requirement already satisfied: exceptiongroup in /usr/local/lib/python3.10/dist-packages (from anyio<5,>=3->langchain-core<0.2.0,>=0.1.7->langchain_experimental) (1.2.0)\n",
            "Requirement already satisfied: marshmallow<4.0.0,>=3.18.0 in /usr/local/lib/python3.10/dist-packages (from dataclasses-json<0.7,>=0.5.7->langchain<0.2,>=0.1->langchain_experimental) (3.20.2)\n",
            "Requirement already satisfied: typing-inspect<1,>=0.4.0 in /usr/local/lib/python3.10/dist-packages (from dataclasses-json<0.7,>=0.5.7->langchain<0.2,>=0.1->langchain_experimental) (0.9.0)\n",
            "Requirement already satisfied: jsonpointer>=1.9 in /usr/local/lib/python3.10/dist-packages (from jsonpatch<2.0,>=1.33->langchain<0.2,>=0.1->langchain_experimental) (2.4)\n",
            "Requirement already satisfied: typing-extensions>=4.2.0 in /usr/local/lib/python3.10/dist-packages (from pydantic<3,>=1->langchain<0.2,>=0.1->langchain_experimental) (4.9.0)\n",
            "Requirement already satisfied: charset-normalizer<4,>=2 in /usr/local/lib/python3.10/dist-packages (from requests<3,>=2->langchain<0.2,>=0.1->langchain_experimental) (3.3.2)\n",
            "Requirement already satisfied: urllib3<3,>=1.21.1 in /usr/local/lib/python3.10/dist-packages (from requests<3,>=2->langchain<0.2,>=0.1->langchain_experimental) (2.0.7)\n",
            "Requirement already satisfied: certifi>=2017.4.17 in /usr/local/lib/python3.10/dist-packages (from requests<3,>=2->langchain<0.2,>=0.1->langchain_experimental) (2023.11.17)\n",
            "Requirement already satisfied: greenlet!=0.4.17 in /usr/local/lib/python3.10/dist-packages (from SQLAlchemy<3,>=1.4->langchain<0.2,>=0.1->langchain_experimental) (3.0.3)\n",
            "Requirement already satisfied: mypy-extensions>=0.3.0 in /usr/local/lib/python3.10/dist-packages (from typing-inspect<1,>=0.4.0->dataclasses-json<0.7,>=0.5.7->langchain<0.2,>=0.1->langchain_experimental) (1.0.0)\n",
            "Requirement already satisfied: tiktoken in /usr/local/lib/python3.10/dist-packages (0.5.2)\n",
            "Requirement already satisfied: regex>=2022.1.18 in /usr/local/lib/python3.10/dist-packages (from tiktoken) (2023.6.3)\n",
            "Requirement already satisfied: requests>=2.26.0 in /usr/local/lib/python3.10/dist-packages (from tiktoken) (2.31.0)\n",
            "Requirement already satisfied: charset-normalizer<4,>=2 in /usr/local/lib/python3.10/dist-packages (from requests>=2.26.0->tiktoken) (3.3.2)\n",
            "Requirement already satisfied: idna<4,>=2.5 in /usr/local/lib/python3.10/dist-packages (from requests>=2.26.0->tiktoken) (3.6)\n",
            "Requirement already satisfied: urllib3<3,>=1.21.1 in /usr/local/lib/python3.10/dist-packages (from requests>=2.26.0->tiktoken) (2.0.7)\n",
            "Requirement already satisfied: certifi>=2017.4.17 in /usr/local/lib/python3.10/dist-packages (from requests>=2.26.0->tiktoken) (2023.11.17)\n",
            "Requirement already satisfied: faiss-cpu==1.7.4 in /usr/local/lib/python3.10/dist-packages (1.7.4)\n"
          ]
        }
      ],
      "source": [
        "!pip install termcolor > /dev/null\n",
        "!pip install langchain\n",
        "!pip install openai\n",
        "!pip install langchain_experimental\n",
        "!pip install tiktoken\n",
        "!pip install faiss-cpu==1.7.4\n",
        "!pip install arxiv\n",
        "!pip install wikipedia\n",
        "!pip install duckduckgo-search\n",
        "\n",
        "from typing import Callable, List\n",
        "\n",
        "from langchain.chat_models import ChatOpenAI\n",
        "from langchain.memory import ConversationBufferMemory\n",
        "from langchain.schema import (\n",
        "    AIMessage,\n",
        "    HumanMessage,\n",
        "    SystemMessage,\n",
        ")"
      ]
    },
    {
      "cell_type": "code",
      "execution_count": null,
      "metadata": {
        "id": "WjSf0z1d3wup"
      },
      "outputs": [],
      "source": [
        "import os"
      ]
    },
    {
      "cell_type": "code",
      "execution_count": null,
      "metadata": {
        "id": "3Vyovpl-3e32"
      },
      "outputs": [],
      "source": [
        "os.environ[\"OPENAI_API_KEY\"] = ''"
      ]
    },
    {
      "cell_type": "markdown",
      "metadata": {
        "id": "1pU-qhMBDywy"
      },
      "source": [
        "## Import modules related to tools"
      ]
    },
    {
      "cell_type": "code",
      "execution_count": null,
      "metadata": {
        "id": "MIdHBTHBDywy"
      },
      "outputs": [],
      "source": [
        "from langchain.agents import AgentType, initialize_agent, load_tools"
      ]
    },
    {
      "cell_type": "markdown",
      "metadata": {
        "id": "-dJpVwZIDywy"
      },
      "source": [
        "## `DialogueAgent` and `DialogueSimulator` classes\n"
      ]
    },
    {
      "cell_type": "code",
      "execution_count": null,
      "metadata": {
        "id": "lJ17jZD2Dywy"
      },
      "outputs": [],
      "source": [
        "class DialogueAgent:\n",
        "    def __init__(\n",
        "        self,\n",
        "        name: str,\n",
        "        system_message: SystemMessage,\n",
        "        model: ChatOpenAI,\n",
        "    ) -> None:\n",
        "        self.name = name\n",
        "        self.system_message = system_message\n",
        "        self.model = model\n",
        "        self.prefix = f\"{self.name}: \"\n",
        "        self.reset()\n",
        "\n",
        "    def reset(self):\n",
        "        self.message_history = [\"Here is the conversation so far.\"]\n",
        "\n",
        "    def send(self) -> str:\n",
        "        \"\"\"\n",
        "        Applies the chatmodel to the message history\n",
        "        and returns the message string\n",
        "        \"\"\"\n",
        "        message = self.model(\n",
        "            [\n",
        "                self.system_message,\n",
        "                HumanMessage(content=\"\\n\".join(self.message_history + [self.prefix])),\n",
        "            ]\n",
        "        )\n",
        "        return message.content\n",
        "\n",
        "    def receive(self, name: str, message: str) -> None:\n",
        "        \"\"\"\n",
        "        Concatenates {message} spoken by {name} into message history\n",
        "        \"\"\"\n",
        "        self.message_history.append(f\"{name}: {message}\")\n",
        "\n",
        "\n",
        "class DialogueSimulator:\n",
        "    def __init__(\n",
        "        self,\n",
        "        agents: List[DialogueAgent],\n",
        "        selection_function: Callable[[int, List[DialogueAgent]], int],\n",
        "    ) -> None:\n",
        "        self.agents = agents\n",
        "        self._step = 0\n",
        "        self.select_next_speaker = selection_function\n",
        "\n",
        "    def reset(self):\n",
        "        for agent in self.agents:\n",
        "            agent.reset()\n",
        "\n",
        "    def inject(self, name: str, message: str):\n",
        "        \"\"\"\n",
        "        Initiates the conversation with a {message} from {name}\n",
        "        \"\"\"\n",
        "        for agent in self.agents:\n",
        "            agent.receive(name, message)\n",
        "\n",
        "        # increment time\n",
        "        self._step += 1\n",
        "\n",
        "    def step(self) -> tuple[str, str]:\n",
        "        # 1. choose the next speaker\n",
        "        speaker_idx = self.select_next_speaker(self._step, self.agents)\n",
        "        speaker = self.agents[speaker_idx]\n",
        "\n",
        "        # 2. next speaker sends message\n",
        "        message = speaker.send()\n",
        "\n",
        "        # 3. everyone receives message\n",
        "        for receiver in self.agents:\n",
        "            receiver.receive(speaker.name, message)\n",
        "\n",
        "        # 4. increment time\n",
        "        self._step += 1\n",
        "\n",
        "        return speaker.name, message"
      ]
    },
    {
      "cell_type": "markdown",
      "metadata": {
        "id": "BLEBfRGIDywz"
      },
      "source": [
        "## `DialogueAgentWithTools` class\n",
        "We define a `DialogueAgentWithTools` class that augments `DialogueAgent` to use tools."
      ]
    },
    {
      "cell_type": "code",
      "execution_count": null,
      "metadata": {
        "id": "sgdM35LGDywz"
      },
      "outputs": [],
      "source": [
        "class DialogueAgentWithTools(DialogueAgent):\n",
        "    def __init__(\n",
        "        self,\n",
        "        name: str,\n",
        "        system_message: SystemMessage,\n",
        "        model: ChatOpenAI,\n",
        "        tool_names: List[str],\n",
        "        **tool_kwargs,\n",
        "    ) -> None:\n",
        "        super().__init__(name, system_message, model)\n",
        "        self.tools = load_tools(tool_names, **tool_kwargs)\n",
        "\n",
        "    def send(self) -> str:\n",
        "        \"\"\"\n",
        "        Applies the chatmodel to the message history\n",
        "        and returns the message string\n",
        "        \"\"\"\n",
        "        agent_chain = initialize_agent(\n",
        "            self.tools,\n",
        "            self.model,\n",
        "            agent=AgentType.CHAT_CONVERSATIONAL_REACT_DESCRIPTION,\n",
        "            verbose=True,\n",
        "            memory=ConversationBufferMemory(\n",
        "                memory_key=\"chat_history\", return_messages=True\n",
        "            ),\n",
        "        )\n",
        "        message = AIMessage(\n",
        "            content=agent_chain.run(\n",
        "                input=\"\\n\".join(\n",
        "                    [self.system_message.content] + self.message_history + [self.prefix]\n",
        "                )\n",
        "            )\n",
        "        )\n",
        "\n",
        "        return message.content"
      ]
    },
    {
      "cell_type": "markdown",
      "metadata": {
        "id": "cepVL42mDyw2"
      },
      "source": [
        "## Main Loop"
      ]
    },
    {
      "cell_type": "code",
      "execution_count": null,
      "metadata": {
        "colab": {
          "base_uri": "https://localhost:8080/"
        },
        "id": "vJARbDus_o2N",
        "outputId": "6d484f94-7648-4dfc-9a29-78fbbd11da54"
      },
      "outputs": [
        {
          "name": "stdout",
          "output_type": "stream",
          "text": [
            "\n",
            "\n",
            "\u001b[1m> Entering new AgentExecutor chain...\u001b[0m\n",
            "\u001b[32;1m\u001b[1;3mI believe that remote work can have a negative impact on employee productivity. While it's true that remote work can eliminate commute time and provide a flexible schedule, it can also lead to isolation and a lack of team interaction. This lack of interaction can lead to a decrease in collaboration and innovation, which are key drivers of productivity in many industries. Furthermore, the boundaries between work and personal life can become blurred in a remote work setting, leading to burnout and decreased productivity over time.\n",
            "\n",
            "```json\n",
            "{\n",
            "    \"action\": \"duckduckgo_search\",\n",
            "    \"action_input\": \"impact of remote work on team interaction\"\n",
            "}\n",
            "```\u001b[0m\n",
            "Observation: \u001b[33;1m\u001b[1;3mRemote work can offer many benefits for your team's engagement, such as increased flexibility, autonomy, productivity, and work-life balance. When employees have more control over their... For starters, one of the biggest challenges associated with remote work is communication. Without the opportunity to have face-to-face conversations with colleagues, it can be difficult to stay in sync and build strong relationships. Working remotely can feel like being in a bubble at times—you're physically separated from your colleagues and don't interact in the same way as you would in the office. But that doesn't necessarily make it worse, just different. In fact, with the right setup, remote or hybrid working can be as good as, if not better than, in-person. A study by Global Workplace Analytics found that 77% of remote workers reported greater productivity than working in an office. This week, I spoke with Wayne Turmel and Kevin Eikenberry about... Now, with the experience of leading a team with fully remote workers since 2015 and transforming to a hybrid/remote model in 2019, I hope to pass on insights to those looking to make a similar ...\u001b[0m\n",
            "Thought:\u001b[32;1m\u001b[1;3m```json\n",
            "{\n",
            "    \"action\": \"Final Answer\",\n",
            "    \"action_input\": \"While it's true that remote work can offer benefits such as increased flexibility and autonomy, it also presents significant challenges. One of the biggest issues is communication. Without face-to-face interactions, it can be difficult to stay in sync and build strong relationships with colleagues. This physical separation can lead to a feeling of being in a bubble, which can hinder collaboration and innovation. However, it's also important to note that with the right setup, remote or hybrid working can be productive. A study by Global Workplace Analytics found that 77% of remote workers reported greater productivity than working in an office. So, while there are potential downsides, they can be mitigated with proper management and communication strategies.\"\n",
            "}\n",
            "```\u001b[0m\n",
            "\n",
            "\u001b[1m> Finished chain.\u001b[0m\n",
            "(Jordan): While it's true that remote work can offer benefits such as increased flexibility and autonomy, it also presents significant challenges. One of the biggest issues is communication. Without face-to-face interactions, it can be difficult to stay in sync and build strong relationships with colleagues. This physical separation can lead to a feeling of being in a bubble, which can hinder collaboration and innovation. However, it's also important to note that with the right setup, remote or hybrid working can be productive. A study by Global Workplace Analytics found that 77% of remote workers reported greater productivity than working in an office. So, while there are potential downsides, they can be mitigated with proper management and communication strategies.\n",
            "\n",
            "\n",
            "\u001b[1m> Entering new AgentExecutor chain...\u001b[0m\n",
            "\u001b[32;1m\u001b[1;3m```json\n",
            "{\n",
            "    \"action\": \"duckduckgo_search\",\n",
            "    \"action_input\": \"benefits of remote work on productivity\"\n",
            "}\n",
            "```\u001b[0m\n",
            "Observation: \u001b[33;1m\u001b[1;3mRemote work productivity is a key to success in the modern business world. The benefits of remote work, including increased productivity, improved focus and concentration, and improved work-life ... Sources Show more The paradigm of traditional workspaces has undergone a seismic shift thanks to the Covid pandemic. As a result, remote work has emerged as a dominant trend, requiring human... Here are six reasons why. 1. Improved Employee Mental And Physical Health. When your employees feel more in control, they're better able to maintain good mental health. That can only benefit ... Here are 10 benefits of remote work that might make you rethink your office job: 1. Work from virtually anywhere ... Having the right technology is essential for improving your productivity while working remotely. Make sure your computer and WiFi connection both have the bandwidth necessary for your job. Consider using two monitors, wireless ... The top 9 benefits of remote work for employers. Organizations might want to adopt a remote work policy for many good reasons, including economic, social, and environmental ones. To give you an overview, here are the top nine benefits of remote work for employers, based on our research: 1. Increased cost-efficiency\u001b[0m\n",
            "Thought:\u001b[32;1m\u001b[1;3m```json\n",
            "{\n",
            "    \"action\": \"Final Answer\",\n",
            "    \"action_input\": \"Jordan, you raise valid points about the challenges of remote work, particularly around communication. However, it's important to note that the benefits of remote work can outweigh these challenges. For instance, remote work can lead to improved employee mental and physical health, which can boost productivity. Additionally, having the right technology can significantly enhance productivity while working remotely. Furthermore, organizations can experience increased cost-efficiency with a remote work policy. Therefore, with the right strategies and tools in place, remote work can be highly beneficial for both employees and organizations.\"\n",
            "}\n",
            "```\u001b[0m\n",
            "\n",
            "\u001b[1m> Finished chain.\u001b[0m\n",
            "(Alex): Jordan, you raise valid points about the challenges of remote work, particularly around communication. However, it's important to note that the benefits of remote work can outweigh these challenges. For instance, remote work can lead to improved employee mental and physical health, which can boost productivity. Additionally, having the right technology can significantly enhance productivity while working remotely. Furthermore, organizations can experience increased cost-efficiency with a remote work policy. Therefore, with the right strategies and tools in place, remote work can be highly beneficial for both employees and organizations.\n",
            "\n",
            "\n",
            "\u001b[1m> Entering new AgentExecutor chain...\u001b[0m\n",
            "\u001b[32;1m\u001b[1;3m```json\n",
            "{\n",
            "    \"action\": \"duckduckgo_search\",\n",
            "    \"action_input\": \"downsides of remote work\"\n",
            "}\n",
            "```\u001b[0m\n",
            "Observation: \u001b[33;1m\u001b[1;3mSome papers have linked remote work with productivity declines of between 8 and 19 percent, while others find drops of 4 percent for individual workers; still other research has found productivity ... Remote work commonly enables: Better nutrition: With less time at home, traditional employees regularly rely on fast, delivery and processed foods throughout the day. If you do your remote work from home, you can cook your own meals and eat more healthily. Better fitness: Sitting still and looking at a computer can lead to substantial health ... IBI's analysis isn't the only research to have found more mental health problems associated with remote and hybrid work: A majority of executives (64 percent) said remote work negatively affected ... For instance, people with disabilities that prevent them from traveling or working long hours can build their careers remotely. The ability to work from anywhere can also mean an increase in available jobs in industries like technology, health care and education. Related: 14 Top Remote Jobs to Consider in 2022. Provides work-life balance Here are helpful tips to mitigate the disadvantages of working remotely: find a quiet, dedicated space to work. establish focus hours. designate time for working and enjoying your home life. engage colleagues beyond work if possible or find other friends. engage your manager to optimise your travel routes.\u001b[0m\n",
            "Thought:\u001b[32;1m\u001b[1;3m```json\n",
            "{\n",
            "    \"action\": \"Final Answer\",\n",
            "    \"action_input\": \"Alex, while I agree that remote work can have benefits, it's important to consider the potential downsides. Some research has linked remote work with productivity declines of between 4 and 19 percent. Additionally, remote work can lead to more mental health problems. A majority of executives, for instance, have reported that remote work negatively affected their employees' mental health. While it's true that the right strategies and tools can mitigate some of these issues, it's crucial to acknowledge these challenges and address them proactively to ensure a successful remote work environment.\"\n",
            "}\n",
            "```\u001b[0m\n",
            "\n",
            "\u001b[1m> Finished chain.\u001b[0m\n",
            "(Jordan): Alex, while I agree that remote work can have benefits, it's important to consider the potential downsides. Some research has linked remote work with productivity declines of between 4 and 19 percent. Additionally, remote work can lead to more mental health problems. A majority of executives, for instance, have reported that remote work negatively affected their employees' mental health. While it's true that the right strategies and tools can mitigate some of these issues, it's crucial to acknowledge these challenges and address them proactively to ensure a successful remote work environment.\n",
            "\n",
            "\n",
            "\u001b[1m> Entering new AgentExecutor chain...\u001b[0m\n",
            "\u001b[32;1m\u001b[1;3m```json\n",
            "{\n",
            "    \"action\": \"duckduckgo_search\",\n",
            "    \"action_input\": \"studies showing benefits of remote work on productivity\"\n",
            "}\n",
            "```\u001b[0m\n",
            "Observation: \u001b[33;1m\u001b[1;3mKey points. Studies show that remote workers are 5 to 9 percent more productive than those working in a physical office. Remote work leads to improved work-life balance, preventing burnout and ... Sources Show more The paradigm of traditional workspaces has undergone a seismic shift thanks to the Covid pandemic. As a result, remote work has emerged as a dominant trend, requiring human... Two brand new studies question how productive remote work really is. getty The remote work trend has its roots in the pandemic. Over the last two years, employees have adapted to remote... The startups. Startup rates are surging, up by 20% from pre-pandemic numbers. The reasons: working from home provides a cheaper way to start a new company by saving a lot on initial capital and rent. Also, people can more easily work on a startup on the side when their regular job offers the option to work from home. The downtime. A study conducted by Stanford University in the summer of 2020 discovered that remote workers were 5% more productive than those working in a physical office. By the spring of 2022, remote...\u001b[0m\n",
            "Thought:\u001b[32;1m\u001b[1;3m```json\n",
            "{\n",
            "    \"action\": \"Final Answer\",\n",
            "    \"action_input\": \"Jordan, I understand your concerns about the potential downsides of remote work. However, it's important to consider recent studies that show remote workers are 5 to 9 percent more productive than those working in a physical office. This increased productivity is attributed to improved work-life balance and prevention of burnout. Additionally, the shift to remote work has led to a surge in startup rates, up by 20% from pre-pandemic numbers. This is because working from home provides a cheaper way to start a new company by saving a lot on initial capital and rent. Therefore, while it's crucial to address the challenges of remote work, it's equally important to leverage its benefits for increased productivity and innovation.\"\n",
            "}\n",
            "```\u001b[0m\n",
            "\n",
            "\u001b[1m> Finished chain.\u001b[0m\n",
            "(Alex): Jordan, I understand your concerns about the potential downsides of remote work. However, it's important to consider recent studies that show remote workers are 5 to 9 percent more productive than those working in a physical office. This increased productivity is attributed to improved work-life balance and prevention of burnout. Additionally, the shift to remote work has led to a surge in startup rates, up by 20% from pre-pandemic numbers. This is because working from home provides a cheaper way to start a new company by saving a lot on initial capital and rent. Therefore, while it's crucial to address the challenges of remote work, it's equally important to leverage its benefits for increased productivity and innovation.\n"
          ]
        }
      ],
      "source": [
        "# Agent Descriptions\n",
        "agent_descriptions = {\n",
        "    \"Alex\": \"Alex is a strong advocate for remote work, emphasizing its flexibility and productivity benefits.\",\n",
        "    \"Jordan\": \"Jordan is skeptical about remote work, focusing on potential downsides like reduced team interaction.\"\n",
        "}\n",
        "\n",
        "\n",
        "# System Messages\n",
        "def generate_system_message(name, description):\n",
        "    return f\"\"\"Your name is {name}.\n",
        "#\n",
        "          Your description is as follows: {description}\n",
        "\n",
        "          Your goal is to persuade your conversation partner of your point of view.\n",
        "\n",
        "          DO look up information with your tool to refute your partner's claims.\n",
        "          DO cite your sources.\n",
        "\n",
        "          DO NOT fabricate fake citations.\n",
        "          DO NOT cite any source that you did not look up.\n",
        "\n",
        "          Do not add anything else.\n",
        "\n",
        "          Stop speaking the moment you finish speaking from your perspective.\n",
        "          \"\"\"\n",
        "\n",
        "agent_system_messages = {name: generate_system_message(name, description) for name, description in agent_descriptions.items()}\n",
        "\n",
        "# Topic Specification\n",
        "specified_topic = \"The Impact of Remote Work on Employee Productivity\"\n",
        "\n",
        "# Agent Setup\n",
        "agents = [\n",
        "    DialogueAgentWithTools(\n",
        "        name=name,\n",
        "        system_message=SystemMessage(content=system_message),\n",
        "        model=ChatOpenAI(model_name=\"gpt-4\", temperature=0.2),\n",
        "        tool_names= [\"arxiv\", \"ddg-search\", \"wikipedia\"],\n",
        "        top_k_results=2,\n",
        "    ) for name, system_message in agent_system_messages.items()\n",
        "]\n",
        "\n",
        "# Speaker Selection Function\n",
        "def select_next_speaker(step, agents):\n",
        "    return step % len(agents)\n",
        "\n",
        "# Running the Simulation\n",
        "max_iters = 4\n",
        "simulator = DialogueSimulator(agents=agents, selection_function=select_next_speaker)\n",
        "simulator.reset()\n",
        "simulator.inject(\"Moderator\", specified_topic)\n",
        "\n",
        "for _ in range(max_iters):\n",
        "    name, message = simulator.step()\n",
        "    print(f\"({name}): {message}\")\n",
        "\n"
      ]
    }
  ],
  "metadata": {
    "colab": {
      "provenance": []
    },
    "kernelspec": {
      "display_name": "Python 3 (ipykernel)",
      "language": "python",
      "name": "python3"
    },
    "language_info": {
      "codemirror_mode": {
        "name": "ipython",
        "version": 3
      },
      "file_extension": ".py",
      "mimetype": "text/x-python",
      "name": "python",
      "nbconvert_exporter": "python",
      "pygments_lexer": "ipython3",
      "version": "3.9.16"
    }
  },
  "nbformat": 4,
  "nbformat_minor": 0
}
